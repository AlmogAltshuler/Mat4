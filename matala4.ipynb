{
 "cells": [
  {
   "cell_type": "code",
   "execution_count": 111,
   "metadata": {},
   "outputs": [
    {
     "name": "stdout",
     "output_type": "stream",
     "text": [
      "enter your API KeyAIzaSyDk_890v9qx2gbrv44XKtzb2crarkyw4w4\n"
     ]
    }
   ],
   "source": [
    "#Import the places text\n",
    "places_Path=\"C:/Users/almog/Desktop/PythonMatalot/matala4/dests.txt\"\n",
    "places_text = open(places_Path,\"r\",encoding= \"utf-8\")\n",
    "key=input('enter your API Key')\n",
    "import json\n",
    "import requests"
   ]
  },
  {
   "cell_type": "code",
   "execution_count": 112,
   "metadata": {},
   "outputs": [],
   "source": [
    "def get_distance_and_time(destenation):#create a function for distancematrix\n",
    "    import requests\n",
    "    start_point='תל אביב'\n",
    "    url=\"https://maps.googleapis.com/maps/api/distancematrix/json?origins=%s&destinations=%s&key=%s\" % (start_point,destenation,key)\n",
    "    try:\n",
    "        response=requests.get(url)\n",
    "        if not response.status_code==200:\n",
    "            print(\"http error\",response.status_code)\n",
    "        else:\n",
    "            try:\n",
    "                response_data=response.json()\n",
    "                dict_distance_time=dict()\n",
    "                dict_distance_time['distance']=response_data['rows'][0]['elements'][0]['distance']['text']\n",
    "                dict_distance_time['time']=response_data['rows'][0]['elements'][0]['duration']['text']\n",
    "                return dict_distance_time\n",
    "            except:\n",
    "                print(\"response not in json format\")\n",
    "    except:\n",
    "        print(\"something went worng with requests.get\")"
   ]
  },
  {
   "cell_type": "code",
   "execution_count": 113,
   "metadata": {},
   "outputs": [],
   "source": [
    "def get_lag_and_len(destenation):#create a function for geocode\n",
    "    import requests\n",
    "    url =\"https://maps.googleapis.com/maps/api/geocode/json?address=%s&key=%s\" %(destenation,key)\n",
    "    try:\n",
    "        response=requests.get(url)\n",
    "        if not response.status_code==200:\n",
    "            print(\"http error\",response.status_code)\n",
    "        else:\n",
    "            try:\n",
    "                data_from_response=response.json()\n",
    "                geo_dict = dict()\n",
    "                geo_dict['lat'] = data_from_response['results'][0]['geometry']['location']['lat']\n",
    "                geo_dict['lng'] = data_from_response['results'][0]['geometry']['location']['lng']\n",
    "                return geo_dict\n",
    "            except:\n",
    "                print(\"response not in json format\")\n",
    "    except:\n",
    "        print(\"something went worng with requests.get\")"
   ]
  },
  {
   "cell_type": "code",
   "execution_count": 114,
   "metadata": {},
   "outputs": [],
   "source": [
    "def create_tupels_for_place(place):#create a function for tupels\n",
    "    distance=('Distance: ',(get_distance_and_time(place)['distance']))\n",
    "    distance=''.join(distance)\n",
    "    time=('Time: ',(get_distance_and_time(place)['time']))\n",
    "    time=''.join(time)\n",
    "    lng=('Length: ',str((get_lag_and_len(place)['lng'])))\n",
    "    lng=''.join(lng)\n",
    "    lat=('Latitude: ',str((get_lag_and_len(place)['lat'])))\n",
    "    lat=''.join(lat)\n",
    "    return distance,time,lng,lat"
   ]
  },
  {
   "cell_type": "code",
   "execution_count": 115,
   "metadata": {},
   "outputs": [
    {
     "name": "stdout",
     "output_type": "stream",
     "text": [
      "איסטנבול : ('Distance: 1,815 km', 'Time: 20 hours 32 mins', 'Length: 28.9783589', 'Latitude: 41.0082376')\n",
      "אמסטרדם : ('Distance: 4,528 km', 'Time: 1 day 23 hours', 'Length: 4.9041389', 'Latitude: 52.3675734')\n",
      "ולטה : ('Distance: 3,795 km', 'Time: 2 days 3 hours', 'Length: 14.5145528', 'Latitude: 35.8989085')\n",
      "בזל : ('Distance: 4,092 km', 'Time: 1 day 20 hours', 'Length: 7.5885761', 'Latitude: 47.5595986')\n",
      "קוטור : ('Distance: 3,015 km', 'Time: 1 day 12 hours', 'Length: 18.771234', 'Latitude: 42.424662')\n"
     ]
    }
   ],
   "source": [
    "places_dictionary=dict()#creating the full data dictionary \n",
    "find_farest_places=dict()\n",
    "for place in places_text:\n",
    "    if place not in places_dictionary:\n",
    "        places_dictionary[place.rstrip()]=(create_tupels_for_place(place))\n",
    "        find_farest_places[place.rstrip()]=(places_dictionary[place.rstrip()][0])\n",
    "    else: continue  \n",
    "        \n",
    "for place in places_dictionary: #print the dictinary city after city\n",
    "    print(place,':' ,places_dictionary[place])\n",
    "    \n",
    "#print(places_dictionary) #print the full dictinary"
   ]
  },
  {
   "cell_type": "code",
   "execution_count": 116,
   "metadata": {},
   "outputs": [
    {
     "name": "stdout",
     "output_type": "stream",
     "text": [
      "place: 1 the city - ולטה with  Distance: 3,795 km  from Tel Aviv\n",
      "place: 2 the city - בזל with  Distance: 4,092 km  from Tel Aviv\n",
      "place: 3 the city - אמסטרדם with  Distance: 4,528 km  from Tel Aviv\n"
     ]
    }
   ],
   "source": [
    "#find the 3 farest from tel aviv\n",
    "tmp=list() \n",
    "for k,v in find_farest_places.items():\n",
    "    tmp.append((v,k))    \n",
    "tmp=sorted(tmp)[len(tmp)-3:] #taking the farest 3\n",
    "count=1\n",
    "for i in tmp:\n",
    "    print(\"place:\", count, \"the city -\", i[1] ,\"with \" , i[0] ,\" from Tel Aviv\")\n",
    "    count=count+1\n",
    "    "
   ]
  }
 ],
 "metadata": {
  "kernelspec": {
   "display_name": "Python 3",
   "language": "python",
   "name": "python3"
  },
  "language_info": {
   "codemirror_mode": {
    "name": "ipython",
    "version": 3
   },
   "file_extension": ".py",
   "mimetype": "text/x-python",
   "name": "python",
   "nbconvert_exporter": "python",
   "pygments_lexer": "ipython3",
   "version": "3.8.5"
  }
 },
 "nbformat": 4,
 "nbformat_minor": 4
}
